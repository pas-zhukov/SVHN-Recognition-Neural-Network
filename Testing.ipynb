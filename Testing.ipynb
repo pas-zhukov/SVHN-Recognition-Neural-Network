{
 "cells": [
  {
   "cell_type": "markdown",
   "metadata": {},
   "source": [
    "### Запустим обучение"
   ]
  },
  {
   "cell_type": "code",
   "execution_count": null,
   "metadata": {
    "pycharm": {
     "is_executing": true
    }
   },
   "outputs": [],
   "source": [
    "import torch\n",
    "import main"
   ]
  },
  {
   "cell_type": "markdown",
   "metadata": {},
   "source": [
    "### Сохраним модель в ONNX формате"
   ]
  },
  {
   "cell_type": "code",
   "execution_count": null,
   "metadata": {
    "pycharm": {
     "is_executing": true
    }
   },
   "outputs": [],
   "source": [
    "torch.onnx.export(main.nn_model, main.x[0], 'svhn.onnx', input_names=[\"image\"], output_names=[\"Numbers Probabilities\"])"
   ]
  },
  {
   "cell_type": "markdown",
   "metadata": {},
   "source": [
    "### Нарисуем графики, отображающие величину loss функции и точности во времени (в зависимости от эпохи)"
   ]
  },
  {
   "cell_type": "code",
   "execution_count": null,
   "metadata": {
    "pycharm": {
     "is_executing": true
    }
   },
   "outputs": [],
   "source": [
    "import matplotlib.pyplot as plt\n",
    "\n",
    "X = list(range(main.num_epochs))\n",
    "\n",
    "# Сначала accuracy\n",
    "plt.plot(X, main.train_history, color='r')\n",
    "plt.plot(X, main.val_history, color='r')\n",
    "\n",
    "\n",
    "fig, ax= plt.subplots()\n",
    "ax.plot(list(range(num_epochs)), train_history)\n",
    "ax.set_title('Train Accuracy')\n",
    "fig2, az= plt.subplots()\n",
    "az.plot(list(range(num_epochs)), val_history)\n",
    "az.set_title('Accuracy on Validation')\n"
   ]
  },
  {
   "cell_type": "code",
   "execution_count": null,
   "metadata": {
    "pycharm": {
     "is_executing": true
    }
   },
   "outputs": [],
   "source": [
    "import matplotlib.pyplot as plt\n",
    "\n",
    "X = list(range(main.num_epochs))\n",
    "\n",
    "fig, (ax1, ax2) = plt.subplots(2)\n",
    "fig.suptitle('Графики тренировочного процесса')\n",
    "\n",
    "ax1.plot(X, main.train_history, color='r', label='Training')\n",
    "ax1.plot(X, main.val_history, color='b', label='Validation')\n",
    "ax1.set_xlabel('Epoch')\n",
    "ax1.set_ylabel('Accuracy')\n",
    "ax1.legend()\n",
    "\n",
    "ax2.plot(X, main.loss_history, color='y', label='Loss Function')\n",
    "ax2.set_xlabel('Epoch')\n",
    "ax2.set_ylabel('Loss')\n",
    "ax2.legend()"
   ]
  }
 ],
 "metadata": {
  "kernelspec": {
   "display_name": "Python 3 (ipykernel)",
   "language": "python",
   "name": "python3"
  },
  "language_info": {
   "codemirror_mode": {
    "name": "ipython",
    "version": 3
   },
   "file_extension": ".py",
   "mimetype": "text/x-python",
   "name": "python",
   "nbconvert_exporter": "python",
   "pygments_lexer": "ipython3",
   "version": "3.10.6"
  }
 },
 "nbformat": 4,
 "nbformat_minor": 1
}
